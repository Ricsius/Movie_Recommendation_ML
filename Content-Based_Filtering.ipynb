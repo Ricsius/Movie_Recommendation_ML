{
 "cells": [
  {
   "cell_type": "markdown",
   "id": "3f7fe472-692d-4798-b341-2a34be67d995",
   "metadata": {},
   "source": [
    "# Content Based Filtering"
   ]
  },
  {
   "cell_type": "code",
   "execution_count": 1,
   "id": "15f8ef5c-ec98-4840-8832-c51e382bcad3",
   "metadata": {},
   "outputs": [],
   "source": [
    "import pandas"
   ]
  },
  {
   "cell_type": "markdown",
   "id": "bd33d0aa-ba7a-43a1-b046-09e3e248cb96",
   "metadata": {},
   "source": [
    "# Load the data"
   ]
  },
  {
   "cell_type": "code",
   "execution_count": 2,
   "id": "17c37c83-8009-4ea3-8d18-be06f2205478",
   "metadata": {},
   "outputs": [],
   "source": [
    "movies = pandas.read_csv(\"data/movies_small.csv\", sep=\";\")"
   ]
  },
  {
   "cell_type": "code",
   "execution_count": 3,
   "id": "f3899203-5483-4961-9c5a-4d8113a7c37b",
   "metadata": {},
   "outputs": [
    {
     "data": {
      "text/html": [
       "<div>\n",
       "<style scoped>\n",
       "    .dataframe tbody tr th:only-of-type {\n",
       "        vertical-align: middle;\n",
       "    }\n",
       "\n",
       "    .dataframe tbody tr th {\n",
       "        vertical-align: top;\n",
       "    }\n",
       "\n",
       "    .dataframe thead th {\n",
       "        text-align: right;\n",
       "    }\n",
       "</style>\n",
       "<table border=\"1\" class=\"dataframe\">\n",
       "  <thead>\n",
       "    <tr style=\"text-align: right;\">\n",
       "      <th></th>\n",
       "      <th>budget</th>\n",
       "      <th>genres</th>\n",
       "      <th>homepage</th>\n",
       "      <th>id</th>\n",
       "      <th>keywords</th>\n",
       "      <th>original_language</th>\n",
       "      <th>original_title</th>\n",
       "      <th>overview</th>\n",
       "      <th>popularity</th>\n",
       "      <th>production_companies</th>\n",
       "      <th>production_countries</th>\n",
       "      <th>release_date</th>\n",
       "      <th>revenue</th>\n",
       "      <th>runtime</th>\n",
       "      <th>spoken_languages</th>\n",
       "      <th>status</th>\n",
       "      <th>tagline</th>\n",
       "      <th>title</th>\n",
       "      <th>vote_average</th>\n",
       "      <th>vote_count</th>\n",
       "    </tr>\n",
       "  </thead>\n",
       "  <tbody>\n",
       "    <tr>\n",
       "      <th>0</th>\n",
       "      <td>190000000</td>\n",
       "      <td>[{\"id\": 28, \"name\": \"Action\"}]</td>\n",
       "      <td>http://www.furious7.com/</td>\n",
       "      <td>168259</td>\n",
       "      <td>[{\"id\": 830, \"name\": \"car race\"}, {\"id\": 3428,...</td>\n",
       "      <td>en</td>\n",
       "      <td>Furious 7</td>\n",
       "      <td>Deckard Shaw seeks revenge against Dominic Tor...</td>\n",
       "      <td>102.322217</td>\n",
       "      <td>[{\"name\": \"Universal Pictures\", \"id\": 33}, {\"n...</td>\n",
       "      <td>[{\"iso_3166_1\": \"JP\", \"name\": \"Japan\"}, {\"iso_...</td>\n",
       "      <td>2015-04-01</td>\n",
       "      <td>1506249360</td>\n",
       "      <td>137</td>\n",
       "      <td>[{\"iso_639_1\": \"en\", \"name\": \"English\"}]</td>\n",
       "      <td>Released</td>\n",
       "      <td>Vengeance Hits Home</td>\n",
       "      <td>Furious 7</td>\n",
       "      <td>7.3</td>\n",
       "      <td>4176</td>\n",
       "    </tr>\n",
       "    <tr>\n",
       "      <th>1</th>\n",
       "      <td>200000000</td>\n",
       "      <td>[{\"id\": 16, \"name\": \"Animation\"}, {\"id\": 10751...</td>\n",
       "      <td>http://www.disney.go.com/cars/</td>\n",
       "      <td>49013</td>\n",
       "      <td>[{\"id\": 830, \"name\": \"car race\"}, {\"id\": 9663,...</td>\n",
       "      <td>en</td>\n",
       "      <td>Cars 2</td>\n",
       "      <td>Star race car Lightning McQueen and his pal Ma...</td>\n",
       "      <td>49.986590</td>\n",
       "      <td>[{\"name\": \"Walt Disney Pictures\", \"id\": 2}, {\"...</td>\n",
       "      <td>[{\"iso_3166_1\": \"US\", \"name\": \"United States o...</td>\n",
       "      <td>2011-06-11</td>\n",
       "      <td>559852396</td>\n",
       "      <td>106</td>\n",
       "      <td>[{\"iso_639_1\": \"en\", \"name\": \"English\"}, {\"iso...</td>\n",
       "      <td>Released</td>\n",
       "      <td>Ka-ciao!</td>\n",
       "      <td>Cars 2</td>\n",
       "      <td>5.8</td>\n",
       "      <td>2033</td>\n",
       "    </tr>\n",
       "    <tr>\n",
       "      <th>2</th>\n",
       "      <td>170000000</td>\n",
       "      <td>[{\"id\": 28, \"name\": \"Action\"}, {\"id\": 878, \"na...</td>\n",
       "      <td>http://marvel.com/guardians</td>\n",
       "      <td>118340</td>\n",
       "      <td>[{\"id\": 8828, \"name\": \"marvel comic\"}, {\"id\": ...</td>\n",
       "      <td>en</td>\n",
       "      <td>Guardians of the Galaxy</td>\n",
       "      <td>Light years from Earth, 26 years after being a...</td>\n",
       "      <td>481.098624</td>\n",
       "      <td>[{\"name\": \"Marvel Studios\", \"id\": 420}, {\"name...</td>\n",
       "      <td>[{\"iso_3166_1\": \"GB\", \"name\": \"United Kingdom\"...</td>\n",
       "      <td>2014-07-30</td>\n",
       "      <td>773328629</td>\n",
       "      <td>121</td>\n",
       "      <td>[{\"iso_639_1\": \"en\", \"name\": \"English\"}]</td>\n",
       "      <td>Released</td>\n",
       "      <td>All heroes start somewhere.</td>\n",
       "      <td>Guardians of the Galaxy</td>\n",
       "      <td>7.9</td>\n",
       "      <td>9742</td>\n",
       "    </tr>\n",
       "    <tr>\n",
       "      <th>3</th>\n",
       "      <td>145000000</td>\n",
       "      <td>[{\"id\": 28, \"name\": \"Action\"}, {\"id\": 12, \"nam...</td>\n",
       "      <td>http://www.kungfupanda.com/</td>\n",
       "      <td>140300</td>\n",
       "      <td>[{\"id\": 478, \"name\": \"china\"}, {\"id\": 779, \"na...</td>\n",
       "      <td>en</td>\n",
       "      <td>Kung Fu Panda 3</td>\n",
       "      <td>Continuing his \"legendary adventures of awesom...</td>\n",
       "      <td>56.747978</td>\n",
       "      <td>[{\"name\": \"Twentieth Century Fox Film Corporat...</td>\n",
       "      <td>[{\"iso_3166_1\": \"CN\", \"name\": \"China\"}, {\"iso_...</td>\n",
       "      <td>2016-01-23</td>\n",
       "      <td>521170825</td>\n",
       "      <td>95</td>\n",
       "      <td>[{\"iso_639_1\": \"en\", \"name\": \"English\"}]</td>\n",
       "      <td>Released</td>\n",
       "      <td>Grab destiny by the rice dumplings.</td>\n",
       "      <td>Kung Fu Panda 3</td>\n",
       "      <td>6.7</td>\n",
       "      <td>1603</td>\n",
       "    </tr>\n",
       "    <tr>\n",
       "      <th>4</th>\n",
       "      <td>250000000</td>\n",
       "      <td>[{\"id\": 28, \"name\": \"Action\"}, {\"id\": 80, \"nam...</td>\n",
       "      <td>http://www.thedarkknightrises.com/</td>\n",
       "      <td>49026</td>\n",
       "      <td>[{\"id\": 849, \"name\": \"dc comics\"}, {\"id\": 853,...</td>\n",
       "      <td>en</td>\n",
       "      <td>The Dark Knight Rises</td>\n",
       "      <td>Following the death of District Attorney Harve...</td>\n",
       "      <td>112.312950</td>\n",
       "      <td>[{\"name\": \"Legendary Pictures\", \"id\": 923}, {\"...</td>\n",
       "      <td>[{\"iso_3166_1\": \"US\", \"name\": \"United States o...</td>\n",
       "      <td>2012-07-16</td>\n",
       "      <td>1084939099</td>\n",
       "      <td>165</td>\n",
       "      <td>[{\"iso_639_1\": \"en\", \"name\": \"English\"}]</td>\n",
       "      <td>Released</td>\n",
       "      <td>The Legend Ends</td>\n",
       "      <td>The Dark Knight Rises</td>\n",
       "      <td>7.6</td>\n",
       "      <td>9106</td>\n",
       "    </tr>\n",
       "    <tr>\n",
       "      <th>5</th>\n",
       "      <td>260000000</td>\n",
       "      <td>[{\"id\": 28, \"name\": \"Action\"}, {\"id\": 12, \"nam...</td>\n",
       "      <td>http://movies.disney.com/john-carter</td>\n",
       "      <td>49529</td>\n",
       "      <td>[{\"id\": 818, \"name\": \"based on novel\"}, {\"id\":...</td>\n",
       "      <td>en</td>\n",
       "      <td>John Carter</td>\n",
       "      <td>John Carter is a war-weary, former military ca...</td>\n",
       "      <td>43.926995</td>\n",
       "      <td>[{\"name\": \"Walt Disney Pictures\", \"id\": 2}]</td>\n",
       "      <td>[{\"iso_3166_1\": \"US\", \"name\": \"United States o...</td>\n",
       "      <td>2012-03-07</td>\n",
       "      <td>284139100</td>\n",
       "      <td>132</td>\n",
       "      <td>[{\"iso_639_1\": \"en\", \"name\": \"English\"}]</td>\n",
       "      <td>Released</td>\n",
       "      <td>Lost in our world, found in another.</td>\n",
       "      <td>John Carter</td>\n",
       "      <td>6.1</td>\n",
       "      <td>2124</td>\n",
       "    </tr>\n",
       "  </tbody>\n",
       "</table>\n",
       "</div>"
      ],
      "text/plain": [
       "      budget                                             genres  \\\n",
       "0  190000000                     [{\"id\": 28, \"name\": \"Action\"}]   \n",
       "1  200000000  [{\"id\": 16, \"name\": \"Animation\"}, {\"id\": 10751...   \n",
       "2  170000000  [{\"id\": 28, \"name\": \"Action\"}, {\"id\": 878, \"na...   \n",
       "3  145000000  [{\"id\": 28, \"name\": \"Action\"}, {\"id\": 12, \"nam...   \n",
       "4  250000000  [{\"id\": 28, \"name\": \"Action\"}, {\"id\": 80, \"nam...   \n",
       "5  260000000  [{\"id\": 28, \"name\": \"Action\"}, {\"id\": 12, \"nam...   \n",
       "\n",
       "                               homepage      id  \\\n",
       "0              http://www.furious7.com/  168259   \n",
       "1        http://www.disney.go.com/cars/   49013   \n",
       "2           http://marvel.com/guardians  118340   \n",
       "3           http://www.kungfupanda.com/  140300   \n",
       "4    http://www.thedarkknightrises.com/   49026   \n",
       "5  http://movies.disney.com/john-carter   49529   \n",
       "\n",
       "                                            keywords original_language  \\\n",
       "0  [{\"id\": 830, \"name\": \"car race\"}, {\"id\": 3428,...                en   \n",
       "1  [{\"id\": 830, \"name\": \"car race\"}, {\"id\": 9663,...                en   \n",
       "2  [{\"id\": 8828, \"name\": \"marvel comic\"}, {\"id\": ...                en   \n",
       "3  [{\"id\": 478, \"name\": \"china\"}, {\"id\": 779, \"na...                en   \n",
       "4  [{\"id\": 849, \"name\": \"dc comics\"}, {\"id\": 853,...                en   \n",
       "5  [{\"id\": 818, \"name\": \"based on novel\"}, {\"id\":...                en   \n",
       "\n",
       "            original_title                                           overview  \\\n",
       "0                Furious 7  Deckard Shaw seeks revenge against Dominic Tor...   \n",
       "1                   Cars 2  Star race car Lightning McQueen and his pal Ma...   \n",
       "2  Guardians of the Galaxy  Light years from Earth, 26 years after being a...   \n",
       "3          Kung Fu Panda 3  Continuing his \"legendary adventures of awesom...   \n",
       "4    The Dark Knight Rises  Following the death of District Attorney Harve...   \n",
       "5              John Carter  John Carter is a war-weary, former military ca...   \n",
       "\n",
       "   popularity                               production_companies  \\\n",
       "0  102.322217  [{\"name\": \"Universal Pictures\", \"id\": 33}, {\"n...   \n",
       "1   49.986590  [{\"name\": \"Walt Disney Pictures\", \"id\": 2}, {\"...   \n",
       "2  481.098624  [{\"name\": \"Marvel Studios\", \"id\": 420}, {\"name...   \n",
       "3   56.747978  [{\"name\": \"Twentieth Century Fox Film Corporat...   \n",
       "4  112.312950  [{\"name\": \"Legendary Pictures\", \"id\": 923}, {\"...   \n",
       "5   43.926995        [{\"name\": \"Walt Disney Pictures\", \"id\": 2}]   \n",
       "\n",
       "                                production_countries release_date     revenue  \\\n",
       "0  [{\"iso_3166_1\": \"JP\", \"name\": \"Japan\"}, {\"iso_...   2015-04-01  1506249360   \n",
       "1  [{\"iso_3166_1\": \"US\", \"name\": \"United States o...   2011-06-11   559852396   \n",
       "2  [{\"iso_3166_1\": \"GB\", \"name\": \"United Kingdom\"...   2014-07-30   773328629   \n",
       "3  [{\"iso_3166_1\": \"CN\", \"name\": \"China\"}, {\"iso_...   2016-01-23   521170825   \n",
       "4  [{\"iso_3166_1\": \"US\", \"name\": \"United States o...   2012-07-16  1084939099   \n",
       "5  [{\"iso_3166_1\": \"US\", \"name\": \"United States o...   2012-03-07   284139100   \n",
       "\n",
       "   runtime                                   spoken_languages    status  \\\n",
       "0      137           [{\"iso_639_1\": \"en\", \"name\": \"English\"}]  Released   \n",
       "1      106  [{\"iso_639_1\": \"en\", \"name\": \"English\"}, {\"iso...  Released   \n",
       "2      121           [{\"iso_639_1\": \"en\", \"name\": \"English\"}]  Released   \n",
       "3       95           [{\"iso_639_1\": \"en\", \"name\": \"English\"}]  Released   \n",
       "4      165           [{\"iso_639_1\": \"en\", \"name\": \"English\"}]  Released   \n",
       "5      132           [{\"iso_639_1\": \"en\", \"name\": \"English\"}]  Released   \n",
       "\n",
       "                                tagline                    title  \\\n",
       "0                   Vengeance Hits Home                Furious 7   \n",
       "1                              Ka-ciao!                   Cars 2   \n",
       "2           All heroes start somewhere.  Guardians of the Galaxy   \n",
       "3   Grab destiny by the rice dumplings.          Kung Fu Panda 3   \n",
       "4                       The Legend Ends    The Dark Knight Rises   \n",
       "5  Lost in our world, found in another.              John Carter   \n",
       "\n",
       "   vote_average  vote_count  \n",
       "0           7.3        4176  \n",
       "1           5.8        2033  \n",
       "2           7.9        9742  \n",
       "3           6.7        1603  \n",
       "4           7.6        9106  \n",
       "5           6.1        2124  "
      ]
     },
     "execution_count": 3,
     "metadata": {},
     "output_type": "execute_result"
    }
   ],
   "source": [
    "movies"
   ]
  },
  {
   "cell_type": "markdown",
   "id": "2ba98aec-54c6-49ab-a828-496d54214e0c",
   "metadata": {},
   "source": [
    "# Term Frequency–Inverse Document Frequency"
   ]
  },
  {
   "cell_type": "code",
   "execution_count": 4,
   "id": "8c547e6e-16e5-4fa9-9757-70d9045b45ed",
   "metadata": {
    "jupyter": {
     "source_hidden": true
    }
   },
   "outputs": [],
   "source": [
    "from sklearn.feature_extraction.text import TfidfVectorizer"
   ]
  },
  {
   "cell_type": "code",
   "execution_count": 5,
   "id": "aafd10f7-87f8-44f2-b12e-7f1f703396a4",
   "metadata": {},
   "outputs": [],
   "source": [
    "tfidf = TfidfVectorizer(stop_words=\"english\")\n",
    "movies[\"overview\"] = movies[\"overview\"].fillna(\"\")"
   ]
  },
  {
   "cell_type": "code",
   "execution_count": 6,
   "id": "ad393ab3-978b-4e06-94b6-728d7bfb6d50",
   "metadata": {},
   "outputs": [
    {
     "data": {
      "text/html": [
       "<div>\n",
       "<style scoped>\n",
       "    .dataframe tbody tr th:only-of-type {\n",
       "        vertical-align: middle;\n",
       "    }\n",
       "\n",
       "    .dataframe tbody tr th {\n",
       "        vertical-align: top;\n",
       "    }\n",
       "\n",
       "    .dataframe thead th {\n",
       "        text-align: right;\n",
       "    }\n",
       "</style>\n",
       "<table border=\"1\" class=\"dataframe\">\n",
       "  <thead>\n",
       "    <tr style=\"text-align: right;\">\n",
       "      <th></th>\n",
       "      <th>26</th>\n",
       "      <th>abducted</th>\n",
       "      <th>accuser</th>\n",
       "      <th>adventure</th>\n",
       "      <th>adventures</th>\n",
       "      <th>assumes</th>\n",
       "      <th>attorney</th>\n",
       "      <th>awesomeness</th>\n",
       "      <th>bane</th>\n",
       "      <th>barsoom</th>\n",
       "      <th>...</th>\n",
       "      <th>terrorist</th>\n",
       "      <th>threats</th>\n",
       "      <th>toretto</th>\n",
       "      <th>transported</th>\n",
       "      <th>villainous</th>\n",
       "      <th>wanted</th>\n",
       "      <th>war</th>\n",
       "      <th>weary</th>\n",
       "      <th>world</th>\n",
       "      <th>years</th>\n",
       "    </tr>\n",
       "  </thead>\n",
       "  <tbody>\n",
       "    <tr>\n",
       "      <th>0</th>\n",
       "      <td>0.000000</td>\n",
       "      <td>0.000000</td>\n",
       "      <td>0.000000</td>\n",
       "      <td>0.000000</td>\n",
       "      <td>0.000000</td>\n",
       "      <td>0.00000</td>\n",
       "      <td>0.000000</td>\n",
       "      <td>0.000000</td>\n",
       "      <td>0.00000</td>\n",
       "      <td>0.000000</td>\n",
       "      <td>...</td>\n",
       "      <td>0.00000</td>\n",
       "      <td>0.000000</td>\n",
       "      <td>0.333333</td>\n",
       "      <td>0.000000</td>\n",
       "      <td>0.00000</td>\n",
       "      <td>0.000000</td>\n",
       "      <td>0.000000</td>\n",
       "      <td>0.000000</td>\n",
       "      <td>0.000000</td>\n",
       "      <td>0.000000</td>\n",
       "    </tr>\n",
       "    <tr>\n",
       "      <th>1</th>\n",
       "      <td>0.000000</td>\n",
       "      <td>0.000000</td>\n",
       "      <td>0.000000</td>\n",
       "      <td>0.190097</td>\n",
       "      <td>0.000000</td>\n",
       "      <td>0.00000</td>\n",
       "      <td>0.000000</td>\n",
       "      <td>0.000000</td>\n",
       "      <td>0.00000</td>\n",
       "      <td>0.000000</td>\n",
       "      <td>...</td>\n",
       "      <td>0.00000</td>\n",
       "      <td>0.000000</td>\n",
       "      <td>0.000000</td>\n",
       "      <td>0.000000</td>\n",
       "      <td>0.00000</td>\n",
       "      <td>0.000000</td>\n",
       "      <td>0.000000</td>\n",
       "      <td>0.000000</td>\n",
       "      <td>0.155883</td>\n",
       "      <td>0.000000</td>\n",
       "    </tr>\n",
       "    <tr>\n",
       "      <th>2</th>\n",
       "      <td>0.237761</td>\n",
       "      <td>0.237761</td>\n",
       "      <td>0.237761</td>\n",
       "      <td>0.000000</td>\n",
       "      <td>0.000000</td>\n",
       "      <td>0.00000</td>\n",
       "      <td>0.000000</td>\n",
       "      <td>0.000000</td>\n",
       "      <td>0.00000</td>\n",
       "      <td>0.000000</td>\n",
       "      <td>...</td>\n",
       "      <td>0.00000</td>\n",
       "      <td>0.000000</td>\n",
       "      <td>0.000000</td>\n",
       "      <td>0.000000</td>\n",
       "      <td>0.00000</td>\n",
       "      <td>0.237761</td>\n",
       "      <td>0.000000</td>\n",
       "      <td>0.000000</td>\n",
       "      <td>0.000000</td>\n",
       "      <td>0.389934</td>\n",
       "    </tr>\n",
       "    <tr>\n",
       "      <th>3</th>\n",
       "      <td>0.000000</td>\n",
       "      <td>0.000000</td>\n",
       "      <td>0.000000</td>\n",
       "      <td>0.000000</td>\n",
       "      <td>0.270444</td>\n",
       "      <td>0.00000</td>\n",
       "      <td>0.000000</td>\n",
       "      <td>0.270444</td>\n",
       "      <td>0.00000</td>\n",
       "      <td>0.000000</td>\n",
       "      <td>...</td>\n",
       "      <td>0.00000</td>\n",
       "      <td>0.270444</td>\n",
       "      <td>0.000000</td>\n",
       "      <td>0.000000</td>\n",
       "      <td>0.00000</td>\n",
       "      <td>0.000000</td>\n",
       "      <td>0.000000</td>\n",
       "      <td>0.000000</td>\n",
       "      <td>0.000000</td>\n",
       "      <td>0.000000</td>\n",
       "    </tr>\n",
       "    <tr>\n",
       "      <th>4</th>\n",
       "      <td>0.000000</td>\n",
       "      <td>0.000000</td>\n",
       "      <td>0.000000</td>\n",
       "      <td>0.000000</td>\n",
       "      <td>0.000000</td>\n",
       "      <td>0.13565</td>\n",
       "      <td>0.271301</td>\n",
       "      <td>0.000000</td>\n",
       "      <td>0.13565</td>\n",
       "      <td>0.000000</td>\n",
       "      <td>...</td>\n",
       "      <td>0.13565</td>\n",
       "      <td>0.000000</td>\n",
       "      <td>0.000000</td>\n",
       "      <td>0.000000</td>\n",
       "      <td>0.13565</td>\n",
       "      <td>0.000000</td>\n",
       "      <td>0.000000</td>\n",
       "      <td>0.000000</td>\n",
       "      <td>0.000000</td>\n",
       "      <td>0.111235</td>\n",
       "    </tr>\n",
       "    <tr>\n",
       "      <th>5</th>\n",
       "      <td>0.000000</td>\n",
       "      <td>0.000000</td>\n",
       "      <td>0.000000</td>\n",
       "      <td>0.000000</td>\n",
       "      <td>0.000000</td>\n",
       "      <td>0.00000</td>\n",
       "      <td>0.000000</td>\n",
       "      <td>0.000000</td>\n",
       "      <td>0.00000</td>\n",
       "      <td>0.353458</td>\n",
       "      <td>...</td>\n",
       "      <td>0.00000</td>\n",
       "      <td>0.000000</td>\n",
       "      <td>0.000000</td>\n",
       "      <td>0.176729</td>\n",
       "      <td>0.00000</td>\n",
       "      <td>0.000000</td>\n",
       "      <td>0.176729</td>\n",
       "      <td>0.176729</td>\n",
       "      <td>0.144920</td>\n",
       "      <td>0.000000</td>\n",
       "    </tr>\n",
       "  </tbody>\n",
       "</table>\n",
       "<p>6 rows × 121 columns</p>\n",
       "</div>"
      ],
      "text/plain": [
       "         26  abducted   accuser  adventure  adventures  assumes  attorney  \\\n",
       "0  0.000000  0.000000  0.000000   0.000000    0.000000  0.00000  0.000000   \n",
       "1  0.000000  0.000000  0.000000   0.190097    0.000000  0.00000  0.000000   \n",
       "2  0.237761  0.237761  0.237761   0.000000    0.000000  0.00000  0.000000   \n",
       "3  0.000000  0.000000  0.000000   0.000000    0.270444  0.00000  0.000000   \n",
       "4  0.000000  0.000000  0.000000   0.000000    0.000000  0.13565  0.271301   \n",
       "5  0.000000  0.000000  0.000000   0.000000    0.000000  0.00000  0.000000   \n",
       "\n",
       "   awesomeness     bane   barsoom  ...  terrorist   threats   toretto  \\\n",
       "0     0.000000  0.00000  0.000000  ...    0.00000  0.000000  0.333333   \n",
       "1     0.000000  0.00000  0.000000  ...    0.00000  0.000000  0.000000   \n",
       "2     0.000000  0.00000  0.000000  ...    0.00000  0.000000  0.000000   \n",
       "3     0.270444  0.00000  0.000000  ...    0.00000  0.270444  0.000000   \n",
       "4     0.000000  0.13565  0.000000  ...    0.13565  0.000000  0.000000   \n",
       "5     0.000000  0.00000  0.353458  ...    0.00000  0.000000  0.000000   \n",
       "\n",
       "   transported  villainous    wanted       war     weary     world     years  \n",
       "0     0.000000     0.00000  0.000000  0.000000  0.000000  0.000000  0.000000  \n",
       "1     0.000000     0.00000  0.000000  0.000000  0.000000  0.155883  0.000000  \n",
       "2     0.000000     0.00000  0.237761  0.000000  0.000000  0.000000  0.389934  \n",
       "3     0.000000     0.00000  0.000000  0.000000  0.000000  0.000000  0.000000  \n",
       "4     0.000000     0.13565  0.000000  0.000000  0.000000  0.000000  0.111235  \n",
       "5     0.176729     0.00000  0.000000  0.176729  0.176729  0.144920  0.000000  \n",
       "\n",
       "[6 rows x 121 columns]"
      ]
     },
     "execution_count": 6,
     "metadata": {},
     "output_type": "execute_result"
    }
   ],
   "source": [
    "tfidf_matrix = tfidf.fit_transform(movies[\"overview\"])\n",
    "pandas.DataFrame(tfidf_matrix.toarray(), columns=tfidf.get_feature_names_out())"
   ]
  },
  {
   "cell_type": "code",
   "execution_count": 7,
   "id": "11b19b38-5547-4198-abd1-8d9c03752d65",
   "metadata": {},
   "outputs": [
    {
     "data": {
      "text/plain": [
       "(6, 121)"
      ]
     },
     "execution_count": 7,
     "metadata": {},
     "output_type": "execute_result"
    }
   ],
   "source": [
    "tfidf_matrix.shape"
   ]
  },
  {
   "cell_type": "markdown",
   "id": "2462ee60-d5da-47fa-893b-818f13ca7f73",
   "metadata": {},
   "source": [
    "# Similarity matrix"
   ]
  },
  {
   "cell_type": "code",
   "execution_count": 8,
   "id": "1197f8eb-1a3a-45ea-a607-d169753b7769",
   "metadata": {},
   "outputs": [],
   "source": [
    "from sklearn.metrics.pairwise import linear_kernel"
   ]
  },
  {
   "cell_type": "code",
   "execution_count": 9,
   "id": "4b1428a1-ded8-4da8-aaa1-d78b5163f57b",
   "metadata": {},
   "outputs": [],
   "source": [
    "similarity_matrix = linear_kernel(tfidf_matrix, tfidf_matrix)"
   ]
  },
  {
   "cell_type": "code",
   "execution_count": 10,
   "id": "b81beda5-af28-4176-a6cb-a561711bd898",
   "metadata": {},
   "outputs": [
    {
     "data": {
      "text/plain": [
       "array([[1.        , 0.        , 0.        , 0.        , 0.        ,\n",
       "        0.        ],\n",
       "       [0.        , 1.        , 0.        , 0.        , 0.        ,\n",
       "        0.02259057],\n",
       "       [0.        , 0.        , 1.        , 0.        , 0.0433744 ,\n",
       "        0.        ],\n",
       "       [0.        , 0.        , 0.        , 1.        , 0.        ,\n",
       "        0.03213867],\n",
       "       [0.        , 0.        , 0.0433744 , 0.        , 1.        ,\n",
       "        0.01612024],\n",
       "       [0.        , 0.02259057, 0.        , 0.03213867, 0.01612024,\n",
       "        1.        ]])"
      ]
     },
     "execution_count": 10,
     "metadata": {},
     "output_type": "execute_result"
    }
   ],
   "source": [
    "similarity_matrix"
   ]
  },
  {
   "cell_type": "code",
   "execution_count": 11,
   "id": "6711bfc2-c451-48e1-bd6d-b49492b3e60e",
   "metadata": {},
   "outputs": [
    {
     "data": {
      "text/plain": [
       "(6, 6)"
      ]
     },
     "execution_count": 11,
     "metadata": {},
     "output_type": "execute_result"
    }
   ],
   "source": [
    "similarity_matrix.shape"
   ]
  },
  {
   "cell_type": "code",
   "execution_count": 12,
   "id": "9e20593c-30f6-48e2-8130-649d19d2f72a",
   "metadata": {},
   "outputs": [
    {
     "data": {
      "text/plain": [
       "array([1., 0., 0., 0., 0., 0.])"
      ]
     },
     "execution_count": 12,
     "metadata": {},
     "output_type": "execute_result"
    }
   ],
   "source": [
    "similarity_matrix[0]"
   ]
  },
  {
   "cell_type": "markdown",
   "id": "866ec946-3ef3-4b01-8c3c-1838150bf888",
   "metadata": {},
   "source": [
    "# Find the most similar movies to a certain movie"
   ]
  },
  {
   "cell_type": "code",
   "execution_count": 13,
   "id": "c9c475a7-9b48-44ab-9cb8-0e43c8f6f1dc",
   "metadata": {},
   "outputs": [],
   "source": [
    "movie_title = \"John Carter\"\n",
    "nr_movies = 3"
   ]
  },
  {
   "cell_type": "code",
   "execution_count": 14,
   "id": "9337cc8b-2b87-4542-9298-84e4fee4168c",
   "metadata": {},
   "outputs": [
    {
     "data": {
      "text/plain": [
       "np.int64(5)"
      ]
     },
     "execution_count": 14,
     "metadata": {},
     "output_type": "execute_result"
    }
   ],
   "source": [
    "idx = movies.loc[movies[\"title\"] == movie_title].index[0]\n",
    "idx"
   ]
  },
  {
   "cell_type": "code",
   "execution_count": 15,
   "id": "0d73a292-329d-4c29-a491-5f70f410cd2f",
   "metadata": {},
   "outputs": [
    {
     "data": {
      "text/plain": [
       "[(0, np.float64(0.0)),\n",
       " (1, np.float64(0.02259056579532686)),\n",
       " (2, np.float64(0.0)),\n",
       " (3, np.float64(0.032138674066915646)),\n",
       " (4, np.float64(0.016120240648257757)),\n",
       " (5, np.float64(1.0000000000000007))]"
      ]
     },
     "execution_count": 15,
     "metadata": {},
     "output_type": "execute_result"
    }
   ],
   "source": [
    "scores = list(enumerate(similarity_matrix[idx]))\n",
    "scores"
   ]
  },
  {
   "cell_type": "code",
   "execution_count": 16,
   "id": "f74f256d-a8ef-4eb2-8005-dca6193cc3d5",
   "metadata": {},
   "outputs": [
    {
     "data": {
      "text/plain": [
       "[(5, np.float64(1.0000000000000007)),\n",
       " (3, np.float64(0.032138674066915646)),\n",
       " (1, np.float64(0.02259056579532686)),\n",
       " (4, np.float64(0.016120240648257757)),\n",
       " (0, np.float64(0.0)),\n",
       " (2, np.float64(0.0))]"
      ]
     },
     "execution_count": 16,
     "metadata": {},
     "output_type": "execute_result"
    }
   ],
   "source": [
    "scores = sorted(scores, key=lambda x: x[1], reverse=True)\n",
    "scores"
   ]
  },
  {
   "cell_type": "code",
   "execution_count": 17,
   "id": "a3a31c84-2751-4edc-bb66-4fa8b8abcf5b",
   "metadata": {},
   "outputs": [
    {
     "data": {
      "text/plain": [
       "[3, 1, 4]"
      ]
     },
     "execution_count": 17,
     "metadata": {},
     "output_type": "execute_result"
    }
   ],
   "source": [
    "movie_indices = [tpl[0] for tpl in scores[1:1+nr_movies]]\n",
    "movie_indices"
   ]
  },
  {
   "cell_type": "code",
   "execution_count": 18,
   "id": "498f6c41-5458-447c-9eb1-454ae9b8748c",
   "metadata": {},
   "outputs": [
    {
     "data": {
      "text/plain": [
       "['Kung Fu Panda 3', 'Cars 2', 'The Dark Knight Rises']"
      ]
     },
     "execution_count": 18,
     "metadata": {},
     "output_type": "execute_result"
    }
   ],
   "source": [
    "list(movies[\"title\"].iloc[movie_indices])"
   ]
  },
  {
   "cell_type": "code",
   "execution_count": 19,
   "id": "f9877106-94fa-4c1f-9d21-6a489f262376",
   "metadata": {},
   "outputs": [],
   "source": [
    "def similar_movies(movie_title, nr_movies):\n",
    "    idx = movies.loc[movies[\"title\"] == movie_title].index[0]\n",
    "    scores = list(enumerate(similarity_matrix[idx]))\n",
    "    scores = sorted(scores, key=lambda x: x[1], reverse=True)\n",
    "    movie_indices = [tpl[0] for tpl in scores[1:1+nr_movies]]\n",
    "\n",
    "    return list(movies[\"title\"].iloc[movie_indices])"
   ]
  },
  {
   "cell_type": "code",
   "execution_count": 20,
   "id": "e206d763-33d3-46e6-a85b-f1633bbdc77e",
   "metadata": {},
   "outputs": [
    {
     "data": {
      "text/plain": [
       "['John Carter', 'Furious 7', 'Cars 2']"
      ]
     },
     "execution_count": 20,
     "metadata": {},
     "output_type": "execute_result"
    }
   ],
   "source": [
    "similar_movies(\"Kung Fu Panda 3\", 3)"
   ]
  }
 ],
 "metadata": {
  "kernelspec": {
   "display_name": "Python 3 (ipykernel)",
   "language": "python",
   "name": "python3"
  },
  "language_info": {
   "codemirror_mode": {
    "name": "ipython",
    "version": 3
   },
   "file_extension": ".py",
   "mimetype": "text/x-python",
   "name": "python",
   "nbconvert_exporter": "python",
   "pygments_lexer": "ipython3",
   "version": "3.13.0"
  }
 },
 "nbformat": 4,
 "nbformat_minor": 5
}
